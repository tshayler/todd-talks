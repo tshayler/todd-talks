{
 "cells": [
  {
   "cell_type": "markdown",
   "id": "550d087d-3415-4186-8819-a754e16eb934",
   "metadata": {},
   "source": [
    "Embed images so that they appear in the static SVG file:\n",
    "* Display with IPython widget\n",
    "* Drag output into draw.io editor"
   ]
  },
  {
   "cell_type": "code",
   "execution_count": null,
   "id": "01e646de-e222-41b7-8ede-31eb6edb3075",
   "metadata": {},
   "outputs": [],
   "source": [
    "from IPython.display import Image, SVG\n",
    "from IPython.lib.latextools import latex_to_png"
   ]
  },
  {
   "cell_type": "code",
   "execution_count": null,
   "id": "dc2b88f0-165a-4806-aa16-7b85469be43c",
   "metadata": {},
   "outputs": [],
   "source": [
    "Image(\"https://qwantz.com/comics/comic2-684.png\", embed=True)"
   ]
  },
  {
   "cell_type": "code",
   "execution_count": null,
   "id": "1d5985c3-0bdc-4f91-9842-28a554ea67fd",
   "metadata": {},
   "outputs": [],
   "source": [
    "SVG(\"https://upload.wikimedia.org/wikipedia/commons/8/88/Logistic-curve.svg\")"
   ]
  },
  {
   "cell_type": "code",
   "execution_count": null,
   "id": "6836d49e-513e-4490-9a68-6dd2029c481a",
   "metadata": {},
   "outputs": [],
   "source": [
    "Image(\"http://erikdemaine.org/foldcut/examples/butterfly_dd_300.gif\", embed=True)"
   ]
  },
  {
   "cell_type": "code",
   "execution_count": null,
   "id": "72f88433-734a-4e89-9a67-a56543edbb62",
   "metadata": {},
   "outputs": [],
   "source": [
    "Image(\"https://images.squarespace-cdn.com/content/v1/53f62f0fe4b0a7a51b059df3/1588648709231-A4JPVNW7OJ93TEVAGRVM/MathStudio.jpg\", embed=True)"
   ]
  },
  {
   "cell_type": "code",
   "execution_count": null,
   "id": "52f5feb4-3267-4373-8972-7761a06de7b2",
   "metadata": {},
   "outputs": [],
   "source": [
    "Image(\"https://dynamicland.org/Images/1-1-together.jpg\", embed=True)"
   ]
  },
  {
   "cell_type": "code",
   "execution_count": null,
   "id": "6c91f591-fb8e-4296-b075-748c328d14cf",
   "metadata": {},
   "outputs": [],
   "source": [
    "Image(\"https://upload.wikimedia.org/wikipedia/commons/c/c3/TorusKnot-3-8.png\", embed=True)"
   ]
  },
  {
   "cell_type": "code",
   "execution_count": null,
   "id": "d2bdf31f-75df-42d1-8eb4-e6514e487f18",
   "metadata": {},
   "outputs": [],
   "source": [
    "SVG(\"https://upload.wikimedia.org/wikipedia/commons/4/47/Torus.svg\")"
   ]
  },
  {
   "cell_type": "code",
   "execution_count": null,
   "id": "28c8c25d-062c-484a-9e87-1b4a9323631c",
   "metadata": {},
   "outputs": [],
   "source": [
    "Image(\n",
    "    latex_to_png(\n",
    "        \"$\\mathbb{Z}[\\sqrt{-5}]: 9 = 3\\cdot 3 = (2 + \\sqrt{-5})\\cdot (2-\\sqrt{-5})$\",\n",
    "        backend=\"matplotlib\"\n",
    "    ),\n",
    "    embed=True\n",
    ")"
   ]
  },
  {
   "cell_type": "code",
   "execution_count": null,
   "id": "d8d92c0b-1e0d-46dd-98dc-cece232a7ed6",
   "metadata": {},
   "outputs": [],
   "source": []
  }
 ],
 "metadata": {
  "kernelspec": {
   "display_name": "Python 3 (ipykernel)",
   "language": "python",
   "name": "python3"
  },
  "language_info": {
   "codemirror_mode": {
    "name": "ipython",
    "version": 3
   },
   "file_extension": ".py",
   "mimetype": "text/x-python",
   "name": "python",
   "nbconvert_exporter": "python",
   "pygments_lexer": "ipython3",
   "version": "3.8.12"
  }
 },
 "nbformat": 4,
 "nbformat_minor": 5
}
